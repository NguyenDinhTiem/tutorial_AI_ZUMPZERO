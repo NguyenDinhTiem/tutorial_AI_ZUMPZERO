{
  "nbformat": 4,
  "nbformat_minor": 0,
  "metadata": {
    "colab": {
      "name": "PYTHON",
      "provenance": [],
      "collapsed_sections": [],
      "toc_visible": true
    },
    "kernelspec": {
      "name": "python3",
      "display_name": "Python 3"
    }
  },
  "cells": [
    {
      "cell_type": "markdown",
      "metadata": {
        "id": "WT36HXyqDfpM"
      },
      "source": [
        "BẠN CÓ THỂ XEM TÀI LIỆU BẰNG:\n",
        "\n",
        "\n",
        "1.   Github  &nbsp; <a href=\"https://github.com/quangvan99/test1/blob/master/Untitled.ipynb\" role=\"button\"><img class=\"notebook-badge-image\" src=\"https://img.shields.io/static/v1?label=&amp;message=View%20On%20GitHub&amp;color=586069&amp;logo=github&amp;labelColor=2f363d\"></a>&nbsp;\n",
        "2.   Colab &nbsp; <a href=\"https://colab.research.google.com/drive/1JTQ4cSO2PcBKNFVfQ71T8XQfGct7XcmQ?usp=sharing\"><img class=\"notebook-badge-image\" src=\"https://colab.research.google.com/assets/colab-badge.svg\" alt=\"Open In Colab\"></a>"
      ]
    },
    {
      "cell_type": "markdown",
      "metadata": {
        "id": "4vpMqPq6WK3n"
      },
      "source": [
        "## **INTRODUCTION**\n",
        "Không cần giới thiệu về python nữa. Nó hiện tại là ngôn ngữ xử lý cực mạnh trong cả Data Analytics, Machine Learning, Computing Science v.v..\n",
        "\n",
        "Câu lệnh trong ngôn ngữ lập trình luôn có nhiều điểm tương đồng, đối tượng hướng đến trong serial tutorial của chúng tôi đa số đã học những ngôn khác. Cho nên chúng tôi sẽ lướt qua bộ khung cấu trúc, có lưu ý một số đặc trưng về ngôn ngữ python và đưa ra bài tập để luyện tập\n"
      ]
    },
    {
      "cell_type": "markdown",
      "metadata": {
        "id": "qCKaEMCh1IGs"
      },
      "source": [
        "# **PYTHON CƠ BẢN**\n",
        "> Write by Quang Van\n",
        "\n"
      ]
    },
    {
      "cell_type": "markdown",
      "metadata": {
        "id": "lJWAp9_7zhym"
      },
      "source": [
        "### **NỘI DUNG:** \n",
        "\n",
        "1. Nhập xuất cơ bản\n",
        "2. Toán tử\n",
        "3. Rẽ nhánh if\n",
        "4. Vòng lặp\n",
        "5. List\n",
        "6. String\n",
        "\n",
        "> Xuyên suốt tutorial này chúng tôi sử dụng **Jupyter Notebook**\n"
      ]
    },
    {
      "cell_type": "markdown",
      "metadata": {
        "id": "jSHTaRil43Bp"
      },
      "source": [
        "---------------------"
      ]
    },
    {
      "cell_type": "markdown",
      "metadata": {
        "id": "w96r4Y3w1eDV"
      },
      "source": [
        "\n",
        "### **1.Nhập xuất cơ bản**"
      ]
    },
    {
      "cell_type": "markdown",
      "metadata": {
        "id": "qTl-8_YU4gQj"
      },
      "source": [
        "\n",
        "#### **In ra màn hình**\n",
        "##### Sử dụng hàm: \n",
        "\n",
        "```python\n",
        "print(seft, *args, sep=' ', end = '\\n', file=None)\n",
        "```"
      ]
    },
    {
      "cell_type": "markdown",
      "metadata": {
        "id": "FQJrIart3qGV"
      },
      "source": [
        "* VD1: In 'Hello world'"
      ]
    },
    {
      "cell_type": "code",
      "metadata": {
        "id": "X5kYtwtQ0jcc"
      },
      "source": [
        "print('Hello world')"
      ],
      "execution_count": null,
      "outputs": []
    },
    {
      "cell_type": "markdown",
      "metadata": {
        "id": "qVc57P8K3y9o"
      },
      "source": [
        "* VD2: In dữ liệu cách nhau bởi dấu ','"
      ]
    },
    {
      "cell_type": "code",
      "metadata": {
        "id": "UD5ZnUU_31tk"
      },
      "source": [
        "print(1,2,3,4,5,6, sep = ',')"
      ],
      "execution_count": null,
      "outputs": []
    },
    {
      "cell_type": "markdown",
      "metadata": {
        "id": "VmGAqjEU4VN8"
      },
      "source": [
        "\n",
        "#### **Nhập từ bàn phím**\n",
        "##### Sử dụng hàm: \n",
        "```python\n",
        "input(message)\n",
        "```\n",
        "\n"
      ]
    },
    {
      "cell_type": "markdown",
      "metadata": {
        "id": "FDA1_JAI5GHk"
      },
      "source": [
        "* VD1: Nhập vào chuỗi \"Tôi yêu Việt Nam\" và in ra màn hình"
      ]
    },
    {
      "cell_type": "code",
      "metadata": {
        "id": "heZWfZAs34YP"
      },
      "source": [
        "# Khai báo biến trong python không cần chỉ định kiểu dữ liệu\n",
        "str = input(\"Nhập: \")\n",
        "print(str)"
      ],
      "execution_count": null,
      "outputs": []
    },
    {
      "cell_type": "markdown",
      "metadata": {
        "id": "EwhC1I6e5M2a"
      },
      "source": [
        "* VD2: Nhập số int a xuất ra màn hình tổng a + 2"
      ]
    },
    {
      "cell_type": "code",
      "metadata": {
        "id": "FtWmi3OT5OTk"
      },
      "source": [
        "a = int(input(\"Nhập: \"))\n",
        "print(a + 2)"
      ],
      "execution_count": null,
      "outputs": []
    },
    {
      "cell_type": "markdown",
      "metadata": {
        "id": "-bYZcu9TSHTD"
      },
      "source": [
        "------"
      ]
    },
    {
      "cell_type": "markdown",
      "metadata": {
        "id": "HL0iHm_T5Vvr"
      },
      "source": [
        "### **2.Toán tử**"
      ]
    },
    {
      "cell_type": "markdown",
      "metadata": {
        "id": "LTCa5vVI5fDa"
      },
      "source": [
        "\n",
        "Toán tử trong python được liệt kê ngắn gọn ở hình dưới đây: \n",
        "\n",
        "![](https://i.imgur.com/T1Je9Se.png)"
      ]
    },
    {
      "cell_type": "markdown",
      "metadata": {
        "id": "Z2O3FV4f5iti"
      },
      "source": [
        "* VD1: Nhập 2 số nguyên a, b và in ra tổng của chúng"
      ]
    },
    {
      "cell_type": "code",
      "metadata": {
        "id": "TGKd4fSh5c0B"
      },
      "source": [
        "a = int(input(\"Nhập a = \"))\n",
        "b = int(input(\"Nhập b = \"))\n",
        "print(a + b)"
      ],
      "execution_count": null,
      "outputs": []
    },
    {
      "cell_type": "markdown",
      "metadata": {
        "id": "KJ4lKcLh5om8"
      },
      "source": [
        "* VD2: in ra kết quả 2 > 3"
      ]
    },
    {
      "cell_type": "code",
      "metadata": {
        "id": "RsynVRao5keP"
      },
      "source": [
        "print(2 > 3)"
      ],
      "execution_count": null,
      "outputs": []
    },
    {
      "cell_type": "markdown",
      "metadata": {
        "id": "Rr07fr_9SLir"
      },
      "source": [
        "------"
      ]
    },
    {
      "cell_type": "markdown",
      "metadata": {
        "id": "zLmHEJGr5slq"
      },
      "source": [
        "### **3.Rẽ nhánh if**"
      ]
    },
    {
      "cell_type": "markdown",
      "metadata": {
        "id": "sOIWihEV53PL"
      },
      "source": [
        "```python\n",
        "if condition:\n",
        "    # Nếu condition đúng thì khối lệnh này được thực thi\n",
        "elif condition2:\n",
        "    # Nếu condition2 đúng thì khối lệnh này được thực thi\n",
        "else:\n",
        "    # còn lại\n",
        "```\n"
      ]
    },
    {
      "cell_type": "markdown",
      "metadata": {
        "id": "MhMK0ooGCrkn"
      },
      "source": [
        "* VD1: Nhập tuổi. Nếu 11 <= tuổi <= 19 thì in ra \"Bạn đang tuổi teen\" ngược lại in ra \"Hazzzz\""
      ]
    },
    {
      "cell_type": "code",
      "metadata": {
        "id": "v_ZISsP65s8O"
      },
      "source": [
        "tuoi = int(input(\"Nhập tuổi = \"))\n",
        "if tuoi > 10 and tuoi < 20:\n",
        "    print(\"Bạn đang tuổi teen\")\n",
        "else:\n",
        "    print(\"Hazzzz\")"
      ],
      "execution_count": null,
      "outputs": []
    },
    {
      "cell_type": "markdown",
      "metadata": {
        "id": "DX2d49R5CvAO"
      },
      "source": [
        "* VD2: Nhập a,b,c,d in ra số lớn nhất"
      ]
    },
    {
      "cell_type": "code",
      "metadata": {
        "id": "TBvInYPBCxV9"
      },
      "source": [
        "a = int(input(\"Nhập tuổi = \"))\n",
        "b = int(input(\"Nhập tuổi = \"))\n",
        "c = int(input(\"Nhập tuổi = \"))\n",
        "d = int(input(\"Nhập tuổi = \"))\n",
        "\n",
        "max = a\n",
        "if (b > max):\n",
        "    max = b\n",
        "if (c > max):\n",
        "    max = c\n",
        "if (d > max):\n",
        "    max = d\n",
        "\n",
        "print(\"max = \", max)"
      ],
      "execution_count": null,
      "outputs": []
    },
    {
      "cell_type": "markdown",
      "metadata": {
        "id": "NZ9iv8SPSNvf"
      },
      "source": [
        "------"
      ]
    },
    {
      "cell_type": "markdown",
      "metadata": {
        "id": "c58cY4hhCze-"
      },
      "source": [
        "### **4.Vòng lặp**"
      ]
    },
    {
      "cell_type": "markdown",
      "metadata": {
        "id": "sUBTNgAcE6Vf"
      },
      "source": [
        ""
      ]
    },
    {
      "cell_type": "markdown",
      "metadata": {
        "id": "2wnwZ_ddSOio"
      },
      "source": [
        "------"
      ]
    },
    {
      "cell_type": "markdown",
      "metadata": {
        "id": "W02o8ZMHC2IG"
      },
      "source": [
        "### **5.List**"
      ]
    },
    {
      "cell_type": "markdown",
      "metadata": {
        "id": "_FpxICgDHB_v"
      },
      "source": [
        "\n",
        "\n",
        "> List trong Python là một kiểu dữ liệu cho phép lưu trữ nhiều kiểu dữ liệu khác\n",
        "\n",
        "\n"
      ]
    },
    {
      "cell_type": "markdown",
      "metadata": {
        "id": "inSF6V1xJAo7"
      },
      "source": [
        "\n",
        "#### **Khởi tạo**\n",
        "> sử dụng cặp dấu []\n",
        "\n",
        "```python\n",
        "# Tạo list lưu trữ các số nguyên\n",
        "ls1 = [2, 9, 12]\n",
        "# Tạo list lưu trữ các xâu ký tự\n",
        "ls2 = [\"Quang\", \"Tiem\", \"Dung\"]\n",
        "# Tạo list lưu trữ các kiểu dữ liệu khác nhau\n",
        "ls3 = [7, 3.5, \"ZumpZero\"]\n",
        "```"
      ]
    },
    {
      "cell_type": "markdown",
      "metadata": {
        "id": "jqtIzGlJJRmM"
      },
      "source": [
        "#### **Truy xuất phần tử**\n",
        "> sử dụng cặp dấu []\n",
        "\n",
        "```python\n",
        "# Tạo list lưu trữ các xâu ký tự\n",
        "lsName = [\"Quang\", \"Tiem\", \"Dung\"]\n",
        "# Truy cập 'Tiem'\n",
        "print(listname[1])\n",
        ">> Tiem\n",
        "```"
      ]
    },
    {
      "cell_type": "markdown",
      "metadata": {
        "id": "fpH0yAd8Itve"
      },
      "source": [
        "#### **Hàm và phương thức**"
      ]
    },
    {
      "cell_type": "markdown",
      "metadata": {
        "id": "iy2Z2HWwE-DN"
      },
      "source": [
        "> ##### **len**: độ dài"
      ]
    },
    {
      "cell_type": "code",
      "metadata": {
        "id": "1FctG9jhMSeT"
      },
      "source": [
        "ls = [1,2,3]\n",
        "print(len(ls))\n"
      ],
      "execution_count": null,
      "outputs": []
    },
    {
      "cell_type": "markdown",
      "metadata": {
        "id": "va1y73XIJy6F"
      },
      "source": [
        "> ##### **append**: Thêm 1 element"
      ]
    },
    {
      "cell_type": "code",
      "metadata": {
        "id": "4BlzEKkeMbEC"
      },
      "source": [
        "ls = []\n",
        "ls.append(1)\n",
        "ls.append(2)\n",
        "ls.append(3)\n",
        "print(ls)\n"
      ],
      "execution_count": null,
      "outputs": []
    },
    {
      "cell_type": "markdown",
      "metadata": {
        "id": "Zh88dhWXJzny"
      },
      "source": [
        "> ##### **max, min**\n"
      ]
    },
    {
      "cell_type": "code",
      "metadata": {
        "id": "ZMMYp9PXMvb0"
      },
      "source": [
        "ls = [1, 2, 3]\n",
        "print('max =', max(ls))\n",
        "print('min =',min(ls))"
      ],
      "execution_count": null,
      "outputs": []
    },
    {
      "cell_type": "markdown",
      "metadata": {
        "id": "UgSzHC1VJz97"
      },
      "source": [
        "> ##### **insert**: thêm 1 element vào vị trí"
      ]
    },
    {
      "cell_type": "code",
      "metadata": {
        "id": "lzfRTWjlM9sZ"
      },
      "source": [
        "ls = ['q', 'u', 'a', 'g']\n",
        "# Chèn 'n' vào vị trí thứ n trong list\n",
        "ls.insert(3, 'n')\n",
        "print(ls)"
      ],
      "execution_count": null,
      "outputs": []
    },
    {
      "cell_type": "markdown",
      "metadata": {
        "id": "7ij7A84OJ0cT"
      },
      "source": [
        "> ##### **pop**: xóa một element tại vị trí"
      ]
    },
    {
      "cell_type": "code",
      "metadata": {
        "id": "AHY-Hoz0NcBJ"
      },
      "source": [
        "ls = ['q', 'u', 'a', 'n', 'o', 'g']\n",
        "# Xóa phần tử thứ 4 khỏi list\n",
        "ls.pop(4)\n",
        "print(ls)"
      ],
      "execution_count": null,
      "outputs": []
    },
    {
      "cell_type": "markdown",
      "metadata": {
        "id": "N8l_GIiTLkCm"
      },
      "source": [
        "> ##### **remove**: xoá 1 element"
      ]
    },
    {
      "cell_type": "code",
      "metadata": {
        "id": "AVJmQq-dNQrS"
      },
      "source": [
        "ls = ['q', 'u', 'a', 'n', 'o', 'g']\n",
        "ls.remove('o')\n",
        "print(ls)"
      ],
      "execution_count": null,
      "outputs": []
    },
    {
      "cell_type": "markdown",
      "metadata": {
        "id": "fA7MY4UELlwC"
      },
      "source": [
        "> ##### **count**: đếm phần tử cho trước"
      ]
    },
    {
      "cell_type": "code",
      "metadata": {
        "id": "PTiEOO8bNpC1"
      },
      "source": [
        "ls = [0,3,9,5,0,7,7,1,9,9]\n",
        "print(ls.count(9))"
      ],
      "execution_count": null,
      "outputs": []
    },
    {
      "cell_type": "markdown",
      "metadata": {
        "id": "mxJ13DgPOG1T"
      },
      "source": [
        "> ##### **reverse**: đảo list"
      ]
    },
    {
      "cell_type": "code",
      "metadata": {
        "id": "gewR1t3TOOgk"
      },
      "source": [
        "ls = ['q', 'u', 'a', 'n', 'g']\n",
        "ls.reverse()\n",
        "print(ls)"
      ],
      "execution_count": null,
      "outputs": []
    },
    {
      "cell_type": "markdown",
      "metadata": {
        "id": "5-_5iDQLLpxz"
      },
      "source": [
        "> ##### **sort**: sắp xếp list"
      ]
    },
    {
      "cell_type": "code",
      "metadata": {
        "id": "gGsrHQ0vN5WZ"
      },
      "source": [
        "ls = [0,3,9,5,0,7,7,1,9,9]\n",
        "# Sort tăng dần\n",
        "ls.sort()\n",
        "print(ls)\n",
        "# Sort giảm dần\n",
        "ls.sort(reverse=True)\n",
        "print(ls)"
      ],
      "execution_count": null,
      "outputs": []
    },
    {
      "cell_type": "markdown",
      "metadata": {
        "id": "K-EZafQ3PNXS"
      },
      "source": [
        "> ##### **copy**: copy list"
      ]
    },
    {
      "cell_type": "code",
      "metadata": {
        "id": "kHZDfWkhPYIR"
      },
      "source": [
        "ls = [0,3,9,5,0,7,7,1,9,9]\n",
        "ls_copy = ls.copy()\n",
        "print(ls_copy)"
      ],
      "execution_count": null,
      "outputs": []
    },
    {
      "cell_type": "markdown",
      "metadata": {
        "id": "UfjN-bpdLqTS"
      },
      "source": [
        "> ##### **clear**: xoá toàn bộ\n"
      ]
    },
    {
      "cell_type": "code",
      "metadata": {
        "id": "S-d1sHxQOYpe"
      },
      "source": [
        "ls = [1, 2, 3]\n",
        "ls.clear()\n",
        "print(ls)"
      ],
      "execution_count": null,
      "outputs": []
    },
    {
      "cell_type": "markdown",
      "metadata": {
        "id": "0f46l0R_O93S"
      },
      "source": [
        "#### **Nâng cao của list**"
      ]
    },
    {
      "cell_type": "markdown",
      "metadata": {
        "id": "knddt_RKPqrg"
      },
      "source": [
        "> ##### **slice:  copy of data**\n",
        "\n",
        "slice trong list như một ***copy of data***\n",
        "\n",
        "      +---+---+---+---+---+---+\n",
        "      | P | y | t | h | o | n |\n",
        "      +---+---+---+---+---+---+\n",
        "        0   1   2   3   4   5 \n",
        "       -6  -5  -4  -3  -2  -1\n",
        "\n",
        "  index begin: 0, -length\n",
        "\n",
        "  index end: -1, length - 1\n",
        "\n",
        "\n"
      ]
    },
    {
      "cell_type": "code",
      "metadata": {
        "id": "w6SZSJ8RQgPx"
      },
      "source": [
        "mylist = ['p','y','t','h','o','n']\n",
        "n = len(mylist)\n",
        " \n",
        "# all forward\n",
        "print(mylist)\n",
        "print(mylist[:]) \n",
        "print(mylist[0:n])\n",
        "print(mylist[-n:])\n",
        "print(mylist[-n:n])"
      ],
      "execution_count": null,
      "outputs": []
    },
    {
      "cell_type": "markdown",
      "metadata": {
        "id": "nJ7AW4c2Q8SK"
      },
      "source": [
        "##### operators: +, *, so sánh"
      ]
    },
    {
      "cell_type": "code",
      "metadata": {
        "id": "DIzHgYhFRPhJ"
      },
      "source": [
        "ls1 = [1,2,3]\n",
        "ls2 = [4,5,6]\n",
        "\n",
        "# Nối và lặp list sử dụng +, * 2 list\n",
        "print(ls1 + ls2)\n",
        "print(ls1*5)\n",
        "\n",
        "# Các phép so sánh\n",
        "print(ls1 > ls2)\n",
        "print(ls1 < ls2)\n",
        "print(ls1 == ls2)"
      ],
      "execution_count": null,
      "outputs": []
    },
    {
      "cell_type": "markdown",
      "metadata": {
        "id": "4QNfae-8SQiH"
      },
      "source": [
        "------"
      ]
    },
    {
      "cell_type": "markdown",
      "metadata": {
        "id": "IdqCu3XQDB2u"
      },
      "source": [
        "### 6.String"
      ]
    },
    {
      "cell_type": "markdown",
      "metadata": {
        "id": "ca2-OP47VLYa"
      },
      "source": [
        "\n",
        "\n",
        "> Là một tập hợp các kí tự Unicode. Không giống các ngôn ngữ khác trong python mỗi ký tự là mỗi xâu có độ dài 1\n",
        "\n",
        "Vì hàm và phương thức của string trong python khá nhiều nên chúng tôi tổng quan thành sơ đồ sau:\n",
        "\n",
        "![](https://i.imgur.com/Iqc2SKl.png)\n",
        "\n"
      ]
    },
    {
      "cell_type": "markdown",
      "metadata": {
        "id": "k5CjqEgbTXE_"
      },
      "source": [
        "> #### **Khởi tạo**\n",
        "    sử dụng ' ', \" \" 1 chuỗi 1 dòng\n",
        "    sử dụng ''' ''', \"\"\" \"\"\" 1 chuỗi nhiều dòng\n"
      ]
    },
    {
      "cell_type": "code",
      "metadata": {
        "id": "__gDePx-T1Lh",
        "outputId": "8c7047f0-6bf4-4a6e-9813-d941e0750e6c",
        "colab": {
          "base_uri": "https://localhost:8080/",
          "height": 101
        }
      },
      "source": [
        "s1 = \"Đường thương đau, đầy ải nhân gian\"\n",
        "s2 = \"\"\"\n",
        "À sao mà à\n",
        "à thế à\n",
        "\"\"\"\n",
        "print(s1)\n",
        "print(s2)"
      ],
      "execution_count": null,
      "outputs": [
        {
          "output_type": "stream",
          "text": [
            "Đường thương đau, đầy ải nhân gian\n",
            "\n",
            "À sao mà à\n",
            "à thế à\n",
            "\n"
          ],
          "name": "stdout"
        }
      ]
    },
    {
      "cell_type": "markdown",
      "metadata": {
        "id": "MzLr2WVBTW23"
      },
      "source": [
        "> #### **Truy xuất phần tử**\n",
        "    sử dụng [ ]\n",
        "\n"
      ]
    },
    {
      "cell_type": "code",
      "metadata": {
        "id": "YwYedBQeUQcA"
      },
      "source": [
        "s = \"Đường thương đau, đầy ải nhân gian\"\n",
        "print(s[2])\n"
      ],
      "execution_count": null,
      "outputs": []
    },
    {
      "cell_type": "markdown",
      "metadata": {
        "id": "RWRK3ya5TWXE"
      },
      "source": [
        "#### **Hàm và phương thức**\n",
        "\n",
        "\n",
        "\n"
      ]
    },
    {
      "cell_type": "markdown",
      "metadata": {
        "id": "bbP-EVHGaCqc"
      },
      "source": [
        "> ##### len: độ dài\n"
      ]
    },
    {
      "cell_type": "code",
      "metadata": {
        "id": "SoNYiXH1DCaG"
      },
      "source": [
        "s = \"abc\"\n",
        "print(len(s))"
      ],
      "execution_count": null,
      "outputs": []
    },
    {
      "cell_type": "markdown",
      "metadata": {
        "id": "cA4eI9WOUWrx"
      },
      "source": [
        "> ##### lower: chuyển 1 chuỗi về dạng in thường"
      ]
    },
    {
      "cell_type": "code",
      "metadata": {
        "id": "GBCA1vw3ajpI"
      },
      "source": [
        "s = \"Quangqb99\"\n",
        "print(s.lower())"
      ],
      "execution_count": null,
      "outputs": []
    },
    {
      "cell_type": "markdown",
      "metadata": {
        "id": "ZzQzWbnBaXRz"
      },
      "source": [
        "> ##### upper: chuyển 1 chuỗi về dạng in hoa\n"
      ]
    },
    {
      "cell_type": "code",
      "metadata": {
        "id": "lwVyRa6FaroE"
      },
      "source": [
        "s = \"Quangqb99\"\n",
        "print(s.upper())"
      ],
      "execution_count": null,
      "outputs": []
    },
    {
      "cell_type": "code",
      "metadata": {
        "id": "_QQ3zbpallFY",
        "outputId": "ab35b170-3fa3-4cb4-f629-22e935033755",
        "colab": {
          "base_uri": "https://localhost:8080/",
          "height": 50
        }
      },
      "source": [
        "s = \"2020\"\n",
        "print(s.isupper())\n",
        "print(\"AAA\".isupper())"
      ],
      "execution_count": null,
      "outputs": [
        {
          "output_type": "stream",
          "text": [
            "False\n",
            "True\n"
          ],
          "name": "stdout"
        }
      ]
    },
    {
      "cell_type": "markdown",
      "metadata": {
        "id": "g6_eSwVGaXuK"
      },
      "source": [
        "> ##### isdigit: kiểm tra có gồm tất cả kí tự số\n"
      ]
    },
    {
      "cell_type": "code",
      "metadata": {
        "id": "Qr1Im5Dua3mq",
        "outputId": "b9dfb2b9-8b50-4f85-96e0-62b9e4d0d58f",
        "colab": {
          "base_uri": "https://localhost:8080/",
          "height": 50
        }
      },
      "source": [
        "s = \"2020\"\n",
        "print(s.isdigit())\n",
        "print(\"aaaaaaaaaaa\".isdigit())"
      ],
      "execution_count": null,
      "outputs": [
        {
          "output_type": "stream",
          "text": [
            "True\n",
            "False\n"
          ],
          "name": "stdout"
        }
      ]
    },
    {
      "cell_type": "markdown",
      "metadata": {
        "id": "vvi43yVlaYT7"
      },
      "source": [
        "> ##### isalpha: kiểm tra gồm tất cả chữ cái\n"
      ]
    },
    {
      "cell_type": "code",
      "metadata": {
        "id": "xCDoc7I5kt-8",
        "outputId": "b7f043d0-e1ec-4700-bc86-0c9570143d97",
        "colab": {
          "base_uri": "https://localhost:8080/",
          "height": 50
        }
      },
      "source": [
        "s = \"2020\"\n",
        "print(s.isalpha())\n",
        "print(\"aaaaaaaaaaa\".isalpha())"
      ],
      "execution_count": null,
      "outputs": [
        {
          "output_type": "stream",
          "text": [
            "False\n",
            "True\n"
          ],
          "name": "stdout"
        }
      ]
    },
    {
      "cell_type": "markdown",
      "metadata": {
        "id": "GNHeOXyHaYvT"
      },
      "source": [
        "> ##### split: cắt chuỗi\n",
        "\n"
      ]
    },
    {
      "cell_type": "code",
      "metadata": {
        "id": "rLA5daRPGmyU"
      },
      "source": [
        "s = \"Anh em ta 123!\"\n",
        "print(s.split(\" \"))"
      ],
      "execution_count": null,
      "outputs": []
    },
    {
      "cell_type": "markdown",
      "metadata": {
        "id": "UvXf5aqmG-Fj"
      },
      "source": [
        "> ##### join: nối chuỗi"
      ]
    },
    {
      "cell_type": "code",
      "metadata": {
        "id": "dLZvSNkzHJHk",
        "outputId": "fa3e7846-94a1-4d1f-94bc-f8905096d498",
        "colab": {
          "base_uri": "https://localhost:8080/",
          "height": 50
        }
      },
      "source": [
        "ls = [\"Welcome\", \"to\", \"quangqb99\"]\n",
        "print(\" \".join(ls))\n",
        "\n",
        "# Cắt thành list sau khi bỏ khoảng trắng và join list string lại\n",
        "message = \"   Welcome   to quangqb99!   \"\n",
        "print(\" \".join(message.split()))"
      ],
      "execution_count": 21,
      "outputs": [
        {
          "output_type": "stream",
          "text": [
            "Welcome to quangqb99\n",
            "Welcome to quangqb99!\n"
          ],
          "name": "stdout"
        }
      ]
    },
    {
      "cell_type": "markdown",
      "metadata": {
        "id": "I3w0lQZ_aZpI"
      },
      "source": [
        "> ##### replace: thay thế\n"
      ]
    },
    {
      "cell_type": "code",
      "metadata": {
        "id": "gCYDV44BGy4L",
        "outputId": "0741eccf-5edb-470e-dc10-f0c0ca0e896b",
        "colab": {
          "base_uri": "https://localhost:8080/",
          "height": 34
        }
      },
      "source": [
        "s = \"Anh em ta 123!\"\n",
        "print(s.replace(\" \", \"\"))"
      ],
      "execution_count": 19,
      "outputs": [
        {
          "output_type": "stream",
          "text": [
            "Anhemta123!\n"
          ],
          "name": "stdout"
        }
      ]
    },
    {
      "cell_type": "markdown",
      "metadata": {
        "id": "BEhLFPQJH2w_"
      },
      "source": [
        "#### **Nâng cao của string**"
      ]
    },
    {
      "cell_type": "markdown",
      "metadata": {
        "id": "4LLvMsysDSB2"
      },
      "source": [
        "# **PYTHON NÂNG CAO**\n",
        "> Write by Quang Van"
      ]
    },
    {
      "cell_type": "markdown",
      "metadata": {
        "id": "YJBa7cCnK06U"
      },
      "source": [
        "### **Mutable and Immutable** \n",
        "\n",
        "Đây là kiến thức quan trọng cần các bạn hiểu kỹ trước khi học về tuple, set và dictionary.\n",
        "\n",
        "Đầu tiên mọi thứ trong python đều là object từ hàm, biến, mảng v.v.., đó là một phần lý do vì sao ngôn ngữ này mềm dẻo như vậy."
      ]
    },
    {
      "cell_type": "markdown",
      "metadata": {
        "id": "sHhp8nLiS5TY"
      },
      "source": [
        "\n",
        "##### **1.Immutable**\n"
      ]
    },
    {
      "cell_type": "markdown",
      "metadata": {
        "id": "clV_RfBVS-Di"
      },
      "source": [
        "\n",
        "***Khẩu quyết Immutable: \"Muốn thay đổi thì đi chỗ khác\"***\n",
        "\n",
        "Nghe thì hơi hắt hủi nhưng phải chấp nhận 😄 </br>\n",
        "Đúng vậy! Tôi đang nói đến \"**Immutable**\", nghĩa là bạn đang cố thay đổi cái mà không thể thay đổi. </br>\n",
        "Nhưng giờ nhất quyết thay đổi thì phải làm sao? </br>\n",
        "==> Thì phải đi qua chỗ khác\n",
        "</br>\n",
        "</br>\n",
        "Ban đầu a_number = 5\n",
        "![](https://i.imgur.com/izq38aU.png)\n",
        "\n",
        "</br>\n",
        "\n",
        "Giờ nó đổi ý muốn lưu a_number = 6\n",
        "![](https://i.imgur.com/P5eMGAL.png)\n",
        "\n",
        "\n",
        "\n",
        "    vậy a_number nó bỏ vợ(5) chạy theo bồ(6), để lại vợ(5) bơ vơ 🙂\n",
        "\n",
        "> *integer, float, string, boolean, tuple là **Immutable**.*\n"
      ]
    },
    {
      "cell_type": "markdown",
      "metadata": {
        "id": "q9vulBVNTR2o"
      },
      "source": [
        "##### **2.Mutable**"
      ]
    },
    {
      "cell_type": "markdown",
      "metadata": {
        "id": "C3UpTdKJTSRu"
      },
      "source": [
        ">  *List, Dictionary, Set, Class là **Mutable**.*\n",
        "\n",
        "***Khẩu quyết Mutable: \"Động đến tao thì okie sao cũng được, còn động đến con cháu tao thì coi chừng\"***\n",
        "</br>\n",
        "\n",
        "Đến đây ta lại thắc mắc, và thử đặt câu hỏi \"*các phần tử trong list đều là integer, string thì sao? Vậy List là **Immutable** à - không lẽ tui nói sai*\"\n",
        "</br>\n",
        "Hmmm... 🐧\n",
        "\n",
        "Đây là câu hỏi 10đ. Và câu trả lời là hình ảnh dưới đây:\n",
        "![](https://i.imgur.com/PiuWyFv.jpg)\n",
        "\n",
        "a_list là một đối tượng trỏ đến *list object*(**Mutable**), và trong *list object* lại trỏ đến từng đối tượng là các **Mutable** và cuối cùng trỏ đến int(**Immutable**).\n",
        "\n",
        "List là **Mutable** chính nói đến đối tượng áp cuối trỏ đến int. Các bạn lưu ý để tránh nhầm lẫn!\n"
      ]
    },
    {
      "cell_type": "markdown",
      "metadata": {
        "id": "hC_Z42PiYH7J"
      },
      "source": [
        "\n",
        "> Hiểu hơn **Mutable and Immutable** để khi thao tác với kiểu dữ liệu hoặc muốn copy data đối tượng nào đó chúng ta không còn vướng bận điều gì - nice 💯"
      ]
    },
    {
      "cell_type": "markdown",
      "metadata": {
        "id": "K1e2ClulbOxT"
      },
      "source": [
        "### **Tuple** "
      ]
    },
    {
      "cell_type": "markdown",
      "metadata": {
        "id": "_2UWtfvEKT_i"
      },
      "source": [
        "### **Slicing** "
      ]
    },
    {
      "cell_type": "code",
      "metadata": {
        "id": "VF7YXIKeU3xg"
      },
      "source": [
        ""
      ],
      "execution_count": null,
      "outputs": []
    },
    {
      "cell_type": "code",
      "metadata": {
        "id": "Et1xOUfmU3w4"
      },
      "source": [
        ""
      ],
      "execution_count": null,
      "outputs": []
    },
    {
      "cell_type": "code",
      "metadata": {
        "id": "nM_sEUA6U3vY"
      },
      "source": [
        ""
      ],
      "execution_count": null,
      "outputs": []
    },
    {
      "cell_type": "code",
      "metadata": {
        "id": "lKADGBrfDVrd"
      },
      "source": [
        ""
      ],
      "execution_count": null,
      "outputs": []
    },
    {
      "cell_type": "code",
      "metadata": {
        "id": "zXmfpiEJYiPO",
        "outputId": "d8d1a274-f8cd-4116-e331-93fc3964de5d",
        "colab": {
          "base_uri": "https://localhost:8080/",
          "height": 34
        }
      },
      "source": [
        "s = \"Welcome,,to,,Codelearn.io!\"\n",
        "print(s.split(\",,\"))"
      ],
      "execution_count": null,
      "outputs": [
        {
          "output_type": "stream",
          "text": [
            "['Welcome', 'to', 'Codelearn.io!']\n"
          ],
          "name": "stdout"
        }
      ]
    },
    {
      "cell_type": "code",
      "metadata": {
        "id": "0QIfC82_zoAY"
      },
      "source": [
        ""
      ],
      "execution_count": null,
      "outputs": []
    }
  ]
}