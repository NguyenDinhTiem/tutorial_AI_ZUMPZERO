{
  "nbformat": 4,
  "nbformat_minor": 0,
  "metadata": {
    "colab": {
      "name": "Numpy-tutorial",
      "provenance": [],
      "private_outputs": true,
      "collapsed_sections": []
    },
    "kernelspec": {
      "name": "python3",
      "display_name": "Python 3"
    }
  },
  "cells": [
    {
      "cell_type": "markdown",
      "metadata": {
        "id": "ofuBJdjCOmaE"
      },
      "source": [
        "# Giới thiệu về Numpy\n",
        "\n",
        "> ###   - Numpy là một thư viện bao gồm các đối tượng mảng đa chiều (multi-dimensional array) và một tập hợp các phương thức để xử lý mảng đa chiều đó.\n",
        "> ### - Sử dụng Numpy, các toán tử toán học và logic có thể thực hiện được. \n"
      ]
    },
    {
      "cell_type": "markdown",
      "metadata": {
        "id": "RUTL1PJsTyA_"
      },
      "source": [
        "# Cài đặt\n",
        "> ###      pip install numpy"
      ]
    },
    {
      "cell_type": "code",
      "metadata": {
        "id": "w2ouHG_LNdyW"
      },
      "source": [
        "!pip install numpy"
      ],
      "execution_count": null,
      "outputs": []
    },
    {
      "cell_type": "markdown",
      "metadata": {
        "id": "CgX7pqySUTog"
      },
      "source": [
        "# Khai báo trong mã nguồn\n",
        "> ### import numpy as np"
      ]
    },
    {
      "cell_type": "code",
      "metadata": {
        "id": "iccV0e1AU4xH"
      },
      "source": [
        "import numpy as np"
      ],
      "execution_count": null,
      "outputs": []
    },
    {
      "cell_type": "markdown",
      "metadata": {
        "id": "TYAKFhcrVNxX"
      },
      "source": [
        "# Tạo Numpy từ mảng một chiều\n",
        "> ### Từ List\n",
        ">> Cú pháp: arr_np = numpy.array(list)"
      ]
    },
    {
      "cell_type": "code",
      "metadata": {
        "id": "fuXkVuADVzD9"
      },
      "source": [
        "# code examples\n",
        "# tạo ndarray từ list\n",
        "\n",
        "import numpy as np\n",
        "\n",
        "# tạo list\n",
        "l = list(range(1, 4))\n",
        "\n",
        "# tạo ndarray\n",
        "data = np.array(l)\n",
        "\n",
        "print(data)\n",
        "print(data[0])\n",
        "print(data[1])"
      ],
      "execution_count": null,
      "outputs": []
    },
    {
      "cell_type": "markdown",
      "metadata": {
        "id": "acwX6heyYCOJ"
      },
      "source": [
        "# Các thuộc tính thông dụng của Numpy\n",
        "> ### dtype: loại dữ liệu mong muốn\n",
        "> ### shape: trả về một tuple với index có một số phần tử tương ứng\n",
        "> ### ndim: chỉ định kích thước tối thiểu của mảng kết quả"
      ]
    },
    {
      "cell_type": "code",
      "metadata": {
        "id": "h87RmrrlXf0B"
      },
      "source": [
        "# code example với shape là 1D\n",
        "# tạo ndarray từ list\n",
        "\n",
        "import numpy as np\n",
        "\n",
        "# tạo list\n",
        "list1D = [1, 2, 3]\n",
        "\n",
        "# tạo ndarray\n",
        "data = np.array(list1D)\n",
        "\n",
        "print(data)\n",
        "print(data.shape)\n",
        "print(data.ndim)\n",
        "print(data.dtype)"
      ],
      "execution_count": null,
      "outputs": []
    },
    {
      "cell_type": "markdown",
      "metadata": {
        "id": "dpEVbdqhaOx0"
      },
      "source": [
        "--> Mảng một chiều (ndim=1) có 3 phần tử, có kiểu dữ liệu là int64"
      ]
    },
    {
      "cell_type": "code",
      "metadata": {
        "id": "8aAu40DtbUPa"
      },
      "source": [
        "# code example với shape là 2D\n",
        "# tạo ndarray từ list\n",
        "\n",
        "import numpy as np\n",
        "\n",
        "# tạo list\n",
        "list2D = [[1., 2.], [3., 4.], [5., 6.]]\n",
        "\n",
        "# tạo ndarray\n",
        "data = np.array(list2D)\n",
        "\n",
        "print(data)\n",
        "print(data.shape)\n",
        "print(data.ndim)\n",
        "print(data.dtype)"
      ],
      "execution_count": null,
      "outputs": []
    },
    {
      "cell_type": "markdown",
      "metadata": {
        "id": "lNwj3eHGbl_4"
      },
      "source": [
        "--> Mảng hai chiều (ndim=2): có 3 dòng và 2 cột, có kiểu dữ liệu là float64"
      ]
    },
    {
      "cell_type": "code",
      "metadata": {
        "id": "yBJ6QbLrbs0i"
      },
      "source": [
        "# code example với shape là 3D\n",
        "# tạo ndarray từ list\n",
        "\n",
        "import numpy as np\n",
        "\n",
        "# tạo list\n",
        "list3D = [ [[1, 2], [3, 4], [5, 6]],\n",
        "           [[1, 6], [2, 2], [3, 4]],\n",
        "           [[7, 7], [8, 2], [9, 5]] ]\n",
        "\n",
        "# tạo ndarray\n",
        "data = np.array(list3D, dtype=np.int32)\n",
        "\n",
        "print(data)\n",
        "print(data.shape)\n",
        "print(data.ndim)\n",
        "print(data.dtype)"
      ],
      "execution_count": null,
      "outputs": []
    },
    {
      "cell_type": "markdown",
      "metadata": {
        "id": "P238JQLKhc3k"
      },
      "source": [
        "--> Mảng ba chiều (ndim=3): chứa 3 ma trận mà một ma trận có 3 dòng và 2 cột, có kiểu dữ liệu là int32"
      ]
    },
    {
      "cell_type": "markdown",
      "metadata": {
        "id": "-c4znbw9hgcg"
      },
      "source": [
        "# Các thao tác trên Numpy array\n",
        "\n"
      ]
    },
    {
      "cell_type": "markdown",
      "metadata": {
        "id": "MeM08yW5tINp"
      },
      "source": [
        "> ### Cập nhật phần tử"
      ]
    },
    {
      "cell_type": "code",
      "metadata": {
        "id": "vyaKrdoPqHfE"
      },
      "source": [
        "# code example\n",
        "# thay đổi giá trị phần tử\n",
        "\n",
        "import numpy as np\n",
        "\n",
        "# tạo list\n",
        "l = list(range(1, 4))\n",
        "\n",
        "# tạo ndarray\n",
        "data = np.array(l)\n",
        "print(data)\n",
        "\n",
        "# Cập nhật phần tử trong mảng\n",
        "data[0] = 8\n",
        "print(data)"
      ],
      "execution_count": null,
      "outputs": []
    },
    {
      "cell_type": "markdown",
      "metadata": {
        "id": "3FHPghCMsAjD"
      },
      "source": [
        "> ### Thêm phần tử"
      ]
    },
    {
      "cell_type": "code",
      "metadata": {
        "id": "PJ0YAzInrugU"
      },
      "source": [
        "# Thêm vào cuối\n",
        "data = np.arange(10)\n",
        "data = np.append(data, [25, 30])\n",
        "print(data)"
      ],
      "execution_count": null,
      "outputs": []
    },
    {
      "cell_type": "markdown",
      "metadata": {
        "id": "6UTyi76ase-a"
      },
      "source": [
        "> ### Xóa phần tử\n"
      ]
    },
    {
      "cell_type": "code",
      "metadata": {
        "id": "YpXNgYQYsmj4"
      },
      "source": [
        "# Xóa phần tử tại vị trí index\n",
        "print(data)\n",
        "data = np.delete(data, 10)\n",
        "print(data)"
      ],
      "execution_count": null,
      "outputs": []
    },
    {
      "cell_type": "markdown",
      "metadata": {
        "id": "S1nbNlIiriR0"
      },
      "source": [
        "> ### Số phần tử trong Numpy array"
      ]
    },
    {
      "cell_type": "code",
      "metadata": {
        "id": "5xesGTbGrhaZ"
      },
      "source": [
        "print(data.shape[0])"
      ],
      "execution_count": null,
      "outputs": []
    },
    {
      "cell_type": "markdown",
      "metadata": {
        "id": "Ql4q3BaptXgo"
      },
      "source": [
        "> ### Tạo mảng có giá trị mặc định 0, 1"
      ]
    },
    {
      "cell_type": "code",
      "metadata": {
        "id": "7-VgxpHptonB"
      },
      "source": [
        "# code examples\n",
        "# dùng hàm zeros() function\n",
        "# với tất cả phần tử là 0\n",
        "\n",
        "arr = np.zeros((2, 3))\n",
        "print(arr)"
      ],
      "execution_count": null,
      "outputs": []
    },
    {
      "cell_type": "code",
      "metadata": {
        "id": "c5OlclS9t8Q-"
      },
      "source": [
        "# code examples\n",
        "# dùng hàm ones() function\n",
        "# với tất cả phần tử là 1\n",
        "\n",
        "arr = np.zeros((2, 3))\n",
        "print(arr)"
      ],
      "execution_count": null,
      "outputs": []
    },
    {
      "cell_type": "code",
      "metadata": {
        "id": "YbYP9hnsuBWQ"
      },
      "source": [
        "# code examples\n",
        "# dùng hàm full() function\n",
        "# với tất cả phần tử là hằng số fill_value\n",
        "\n",
        "arr = np.full((2, 3), 9)\n",
        "print(arr)"
      ],
      "execution_count": null,
      "outputs": []
    },
    {
      "cell_type": "markdown",
      "metadata": {
        "id": "5r7tNJhSund2"
      },
      "source": [
        "> ### Thay đổi kích cỡ Numpy array"
      ]
    },
    {
      "cell_type": "code",
      "metadata": {
        "id": "lZd7xRsOuky-"
      },
      "source": [
        "# code examples\n",
        "# thay đổi kích cỡ mảng dùng hàm reshape()\n",
        "import numpy as np\n",
        "\n",
        "# tạo list\n",
        "l = [[1, 2, 3],\n",
        "     [4, 5, 6]]\n",
        "\n",
        "# tạo ndarray\n",
        "data = np.array(l)\n",
        "print(\"data\\n\", data)\n",
        "print(\"data shape\\n\", data.shape)\n",
        "print(\"\\n\")\n",
        "# thay đổi kích cỡ\n",
        "data_rs = np.reshape(data, (3,2))\n",
        "print(\"data_rs\\n\", data_rs)\n",
        "print(\"data_rs shape\\n\", data_rs.shape)"
      ],
      "execution_count": null,
      "outputs": []
    },
    {
      "cell_type": "markdown",
      "metadata": {
        "id": "Jako1BLjvxWs"
      },
      "source": [
        "> ### Các hàm liên quan đến dữ liệu"
      ]
    },
    {
      "cell_type": "code",
      "metadata": {
        "id": "X29_2bcIxpzi"
      },
      "source": [
        "### hàm where() ###\n",
        "import numpy as np\n",
        "\n",
        "# tạo array\n",
        "arr = np.arange(5)\n",
        "print(arr)\n",
        "\n",
        "#condition - lấy những phần tử < 3\n",
        "condition = arr < 3\n",
        "\n",
        "# if (condition) là true, trả về arr, ngược lại trả về arr*2\n",
        "out = np.where(condition, arr, arr*2)\n",
        "\n",
        "print(condition)\n",
        "print(out)"
      ],
      "execution_count": null,
      "outputs": []
    },
    {
      "cell_type": "code",
      "metadata": {
        "id": "TXwpjqNFzYp0"
      },
      "source": [
        "### hàm flatten() ###\n",
        "import numpy as np\n",
        "\n",
        "# tạo array\n",
        "arr = np.array([[1, 2], [3, 4]])\n",
        "\n",
        "# làm phẳng thành mảng\n",
        "out = arr.flatten()\n",
        "\n",
        "print(\"Before:\")\n",
        "print(arr)\n",
        "\n",
        "print(\"After flatten:\")\n",
        "print(out)"
      ],
      "execution_count": null,
      "outputs": []
    },
    {
      "cell_type": "markdown",
      "metadata": {
        "id": "SF3hmAED0UIF"
      },
      "source": [
        "> # Chỉ mục trong Numpy Array"
      ]
    },
    {
      "cell_type": "markdown",
      "metadata": {
        "id": "74m3drUQ0xr6"
      },
      "source": [
        ">> ## Kỹ thuật dùng Slicing\n",
        ">>> ### Cú pháp: array[for_axis_0, for_axis_1, ...]\n",
        ">>> ### \":\" lấy tất cả các dòng và cột\n",
        ">>> ### \"a:b\" lấy tất các phần tử từ vị trí a đến vị trí b"
      ]
    },
    {
      "cell_type": "code",
      "metadata": {
        "id": "oS2KduAq0wub"
      },
      "source": [
        "# code examples\n",
        "import numpy as np\n",
        "\n",
        "# khởi tạo numpy array a_arr\n",
        "a_arr = np.array([[1, 2, 3], [5, 6, 7]])\n",
        "\n",
        "# Sử dụng kỹ thuật slicing để tạo mảng b_arr\n",
        "# lấy tất cả các dòng và cột 1,2\n",
        "b_arr = a_arr[:, 1:3]\n",
        "\n",
        "print(\"a_arr:\")\n",
        "print(a_arr)\n",
        "print(\"\\n\")\n",
        "print(\"b_arr:\")\n",
        "print(b_arr)"
      ],
      "execution_count": null,
      "outputs": []
    },
    {
      "cell_type": "code",
      "metadata": {
        "id": "8nsS6Dtz5v4Y"
      },
      "source": [
        "### truy xuất lấy theo dòng ###\n",
        "import numpy as np\n",
        "\n",
        "# tạo một numpy array có shape(3,3) với giá trị\n",
        "# [ [1, 2, 3],\n",
        "#   [5, 6, 7],\n",
        "#   [9, 10, 11] ]\n",
        "\n",
        "arr = np.array([[1, 2, 3],\n",
        "                [5, 6, 7],\n",
        "                [9, 10, 11]])\n",
        "\n",
        "# trường hợp 1: truy xuất theo số chiều giảm\n",
        "row_m1 = arr[1, :]\n",
        "\n",
        "# trường hợp 2: truy xuất theo chiều được giữ nguyên\n",
        "row_m2 = arr[1:2, :]\n",
        "\n",
        "print(row_m1, row_m1.shape)\n",
        "print(row_m2, row_m2.shape)"
      ],
      "execution_count": null,
      "outputs": []
    },
    {
      "cell_type": "markdown",
      "metadata": {
        "id": "6i4zpNTX729u"
      },
      "source": [
        "<li> trường hợp 1: output là mảng 1 chiều có 3 phần tử <br>\n",
        "<li> trường hợp 2: output là ma trận có 1 dòng và 3 cột"
      ]
    },
    {
      "cell_type": "code",
      "metadata": {
        "id": "SI17DwD_8gDL"
      },
      "source": [
        "### truy xuất lấy theo cột ###\n",
        "import numpy as np\n",
        "\n",
        "# tạo một numpy array có shape(3,3) với giá trị\n",
        "# [ [1, 2, 3],\n",
        "#   [5, 6, 7],\n",
        "#   [9, 10, 11] ]\n",
        "\n",
        "arr = np.array([[1, 2, 3],\n",
        "                [5, 6, 7],\n",
        "                [9, 10, 11]])\n",
        "\n",
        "# trường hợp 1: truy xuất theo số chiều giảm\n",
        "row_m1 = arr[:, 1]\n",
        "\n",
        "# trường hợp 2: truy xuất theo chiều được giữ nguyên\n",
        "row_m2 = arr[:, 1:2]\n",
        "\n",
        "print(row_m1, row_m1.shape)\n",
        "print(row_m2, row_m2.shape)"
      ],
      "execution_count": null,
      "outputs": []
    },
    {
      "cell_type": "markdown",
      "metadata": {
        "id": "jITZHgU08vAI"
      },
      "source": [
        "<li> trường hợp 1: output là mảng 1 chiều có 3 phần tử <br>\n",
        "<li> trường hợp 2: output là ma trận có 1 cột và 3 dòng"
      ]
    },
    {
      "cell_type": "code",
      "metadata": {
        "id": "SMymGtum9Yke"
      },
      "source": [
        "### Sử dụng Lists như Index ###\n",
        "import numpy as np\n",
        "\n",
        "# tạo arr\n",
        "arr = np.array([[1, 2],\n",
        "                [3, 4],\n",
        "                [5, 6]])\n",
        "\n",
        "# truy cập giá trị (0,0), (1,2), (2,0)\n",
        "output = arr[[0, 1, 2], [0, 1, 0]]\n",
        "\n",
        "print(output)"
      ],
      "execution_count": null,
      "outputs": []
    },
    {
      "cell_type": "code",
      "metadata": {
        "id": "CzfqGZU0-fFx"
      },
      "source": [
        "### Sử dụng Boolean như Index ###\n",
        "import numpy as np\n",
        "\n",
        "# tạo arr\n",
        "arr = np.array([[1, 2],\n",
        "                [3, 4],\n",
        "                [5, 6]])\n",
        "\n",
        "print(arr)\n",
        "\n",
        "# tìm các phần tử lớn hơn 2\n",
        "bool_idx = (arr > 2)\n",
        "\n",
        "print(bool_idx)"
      ],
      "execution_count": null,
      "outputs": []
    },
    {
      "cell_type": "markdown",
      "metadata": {
        "id": "SOneaQC9_Bjr"
      },
      "source": [
        "> # Toán tử thông dụng trong Numpy Array"
      ]
    },
    {
      "cell_type": "markdown",
      "metadata": {
        "id": "ZwI1TLAtAVNW"
      },
      "source": [
        ">> ### Toán tử  \"$+$\""
      ]
    },
    {
      "cell_type": "code",
      "metadata": {
        "id": "HZQiEPmfBVWH"
      },
      "source": [
        "# code examples\n",
        "import numpy as np\n",
        "\n",
        "x = np.array([1, 2, 3, 4])\n",
        "y = np.array([5, 6, 7, 8])\n",
        "\n",
        "print(\"data x \\n\", x)\n",
        "print(\"data x \\n\", y)\n",
        "\n",
        "# Tổng của 2 mảng\n",
        "print(\"method 1 \\n\", x + y)\n",
        "print(\"method 2 \\n\", np.add(x, y))"
      ],
      "execution_count": null,
      "outputs": []
    },
    {
      "cell_type": "markdown",
      "metadata": {
        "id": "9_C50llkBW5T"
      },
      "source": [
        ">> ### Toán tử  \"$-$\""
      ]
    },
    {
      "cell_type": "code",
      "metadata": {
        "id": "-XpFNCSZCNkL"
      },
      "source": [
        "# code examples\n",
        "import numpy as np\n",
        "\n",
        "x = np.array([1, 2, 3, 4])\n",
        "y = np.array([5, 6, 7, 8])\n",
        "\n",
        "print(\"data x \\n\", x)\n",
        "print(\"data x \\n\", y)\n",
        "\n",
        "# Hiệu của 2 mảng\n",
        "print(\"method 1 \\n\", x - y)\n",
        "print(\"method 2 \\n\", np.subtract(x, y))"
      ],
      "execution_count": null,
      "outputs": []
    },
    {
      "cell_type": "markdown",
      "metadata": {
        "id": "ZXD5aA2oBYmb"
      },
      "source": [
        ">> ### Toán tử  \"$*$\""
      ]
    },
    {
      "cell_type": "code",
      "metadata": {
        "id": "tdt59LbbCaU6"
      },
      "source": [
        "# code examples\n",
        "import numpy as np\n",
        "\n",
        "x = np.array([1, 2, 3, 4])\n",
        "y = np.array([5, 6, 7, 8])\n",
        "\n",
        "print(\"data x \\n\", x)\n",
        "print(\"data x \\n\", y)\n",
        "\n",
        "# Tích của 2 mảng\n",
        "print(\"method 1 \\n\", x * y)\n",
        "print(\"method 2 \\n\", np.multiply(x, y))"
      ],
      "execution_count": null,
      "outputs": []
    },
    {
      "cell_type": "markdown",
      "metadata": {
        "id": "7FyCGYpsBaek"
      },
      "source": [
        ">> ### Toán tử  \"$/$\""
      ]
    },
    {
      "cell_type": "code",
      "metadata": {
        "id": "JXbJKkMrCkOJ"
      },
      "source": [
        "# code examples\n",
        "import numpy as np\n",
        "\n",
        "x = np.array([1, 2, 3, 4])\n",
        "y = np.array([5, 6, 7, 8])\n",
        "\n",
        "print(\"data x \\n\", x)\n",
        "print(\"data x \\n\", y)\n",
        "\n",
        "# Thương của 2 mảng\n",
        "print(\"method 1 \\n\", y / x)\n",
        "print(\"method 2 \\n\", y // x)\n",
        "print(\"method 3 \\n\", np.divide(y, x))"
      ],
      "execution_count": null,
      "outputs": []
    },
    {
      "cell_type": "markdown",
      "metadata": {
        "id": "JSa_uBP2-iuw"
      },
      "source": [
        ">> ### Căn bậc hai"
      ]
    },
    {
      "cell_type": "code",
      "metadata": {
        "id": "zoS1Dqod-nSj"
      },
      "source": [
        "# code examples\n",
        "import numpy as np\n",
        "\n",
        "data = np.array([1, 2, 3, 4])\n",
        "\n",
        "print(\"data \\n\", data)\n",
        "\n",
        "# Căn bậc 2 của từng phần tử trong data\n",
        "print(\"sqrt: \\n\", np.sqrt(data))"
      ],
      "execution_count": null,
      "outputs": []
    },
    {
      "cell_type": "markdown",
      "metadata": {
        "id": "sI6l8GQ3_QN6"
      },
      "source": [
        ">> ### Inner product\n",
        ">>> #### Hàm này trả về kết quả tích vô hướng của các véc-tơ, scalar."
      ]
    },
    {
      "cell_type": "code",
      "metadata": {
        "id": "RLPrpTuL_Cmh"
      },
      "source": [
        "# codes examples\n",
        "import numpy as np \n",
        "\n",
        "print(\"Inner product:\")\n",
        "print(np.inner(np.array([1,2,3]),np.array([0,1,0])))"
      ],
      "execution_count": null,
      "outputs": []
    },
    {
      "cell_type": "markdown",
      "metadata": {
        "id": "DIM0CR9UDNkn"
      },
      "source": [
        "Inner product = 1$*$0 $+$ 2$*$1 $+$ 3$*$0"
      ]
    },
    {
      "cell_type": "code",
      "metadata": {
        "id": "M5Q5HkNpDdbY"
      },
      "source": [
        "# Codes examples\n",
        "# Multi-dimensional array example \n",
        "import numpy as np \n",
        "a = np.array([[1,2], [3,4]]) \n",
        "\n",
        "print(\"Array a:\")\n",
        "print(a) \n",
        "\n",
        "print(\"\\n\")\n",
        "b = np.array([[11, 12], [13, 14]]) \n",
        "print(\"Array b:\")\n",
        "print(b) \n",
        "\n",
        "print(\"\\n\")\n",
        "\n",
        "print(\"Inner product:\")\n",
        "print(np.inner(a,b))"
      ],
      "execution_count": null,
      "outputs": []
    },
    {
      "cell_type": "markdown",
      "metadata": {
        "id": "yVy0juVbD8fB"
      },
      "source": [
        "Inner product = <br>\n",
        "[[1$*$11 $+$ 2$*$12, 1$*$13 $+$ 2$*$14]<br> \n",
        "[3$*$11 $+$ 4$*$12, 3$*$13 $+$ 4$*$14]]"
      ]
    },
    {
      "cell_type": "code",
      "metadata": {
        "id": "DqLvFyshHayA"
      },
      "source": [
        "# Codes examples\n",
        "import numpy as np\n",
        "\n",
        "v = np.array([1, 2])\n",
        "w = np.array([2, 3])\n",
        "\n",
        "# Inner product giữa u và v\n",
        "print(\"method 1:\", v.dot(w))\n",
        "print(\"method 2:\", np.dot(v,w))"
      ],
      "execution_count": null,
      "outputs": []
    },
    {
      "cell_type": "code",
      "metadata": {
        "id": "rHpWjw6YIS23"
      },
      "source": [
        "# Codes examples\n",
        "# Inner product giữa Matrix với Véc-tơ\n",
        "import numpy as np\n",
        "\n",
        "X = np.array([[1, 2],\n",
        "              [3, 4]])\n",
        "\n",
        "v = np.array([1, 2])\n",
        "\n",
        "print(\"matrix X \\n\", X)\n",
        "print(\"matrix Y \\n\", v)\n",
        "\n",
        "# phép nhân giữa ma trận với vector\n",
        "print(\"method 1: X.dot(v) \\n\", X.dot(v))\n",
        "print(\"method 2: v.dot(X) \\n\", v.dot(X))"
      ],
      "execution_count": null,
      "outputs": []
    },
    {
      "cell_type": "code",
      "metadata": {
        "id": "DdgJGYg5JE37"
      },
      "source": [
        "# Codes examples\n",
        "# Inner product giữa Matrix với Matrix\n",
        "import numpy as np\n",
        "\n",
        "X = np.array([[1, 2],\n",
        "              [3, 4]])\n",
        "\n",
        "Y = np.array([[1, 2],\n",
        "             [2, 1]])\n",
        "\n",
        "print(\"matrix X \\n\", X)\n",
        "print(\"matrix Y \\n\", v)\n",
        "\n",
        "# phép nhân giữa ma trận với vector\n",
        "print(\"method 1: X.dot(Y) \\n\", X.dot(Y))\n",
        "print(\"method 2: Y.dot(X) \\n\", Y.dot(X))"
      ],
      "execution_count": null,
      "outputs": []
    },
    {
      "cell_type": "markdown",
      "metadata": {
        "id": "Sd8p0reKJip2"
      },
      "source": [
        ">> ### Tranpose\n",
        ">>> ### Thực hiện việc chuyển đổi dòng thành cột, và cột thành dòng trong ma trận\n"
      ]
    },
    {
      "cell_type": "code",
      "metadata": {
        "id": "SNLJOXxRKaox"
      },
      "source": [
        "# code examples\n",
        "# Transpose matrix\n",
        "import numpy as np\n",
        "\n",
        "X = np.array([[1, 2],\n",
        "              [3, 4]])\n",
        "\n",
        "print(\"Before Transpose:\")\n",
        "print(X)\n",
        "\n",
        "# Transpose\n",
        "print(\"After Transpose:\")\n",
        "print(X.T)"
      ],
      "execution_count": null,
      "outputs": []
    },
    {
      "cell_type": "markdown",
      "metadata": {
        "id": "g7THw9RCLVdB"
      },
      "source": [
        "# Cơ chế Broadcasting\n",
        ">> ### Là việc thực hiện các phép toán số học giữa các numpy array có kích thước khác nhau. Trong đó, thường là các trường hợp một mảng có kích thước nhỏ và mảng có kích thước lớn hơn, nhưng muốn thực hiện các phép toán giữa chúng. Lúc này, mảng nhỏ hơn sẽ tự nhân bản sao cho có cùng shape với mảng lớn hơn. Khi đó, các phép toán được thực thi bình thường."
      ]
    },
    {
      "cell_type": "code",
      "metadata": {
        "id": "gTFan8uyPS1A"
      },
      "source": [
        "# code examples\n",
        "# Vector và một scalar\n",
        "import numpy as np\n",
        "\n",
        "# create data array\n",
        "data = np.array([1, 2, 3])\n",
        "print(\"Cho 1 mảng:\", data)\n",
        "\n",
        "# scalar\n",
        "factor = 2\n",
        "print(\"giá trị scalar:\", factor)\n",
        "\n",
        "# broadcasting\n",
        "result_mul = data * factor\n",
        "result_minus = data - factor\n",
        "\n",
        "print(\"Kết quả tích giữa vec-tor và scalar:\", result_mul)\n",
        "print(\"Kết quả hiệu giữa vec-tor và scalar:\", result_minus)"
      ],
      "execution_count": null,
      "outputs": []
    },
    {
      "cell_type": "code",
      "metadata": {
        "id": "HshKFj6UQeov"
      },
      "source": [
        "# code examples\n",
        "# Matric và một vector\n",
        "import numpy as np\n",
        "\n",
        "# create data array\n",
        "matrix = np.array([[1, 2, 3],\n",
        "                  [4, 5, 6],\n",
        "                  [10, 11, 12]])\n",
        "print(\"Cho 1 matrix:\\n\", matrix)\n",
        "\n",
        "# vector\n",
        "vector = np.array([1, 0, 1])\n",
        "print(\"vector:\", vector)\n",
        "\n",
        "# broadcasting\n",
        "Y = matrix + vector\n",
        "\n",
        "print(\"Kết quả cộng giữa matrix và vector:\\n\", Y)"
      ],
      "execution_count": null,
      "outputs": []
    }
  ]
}